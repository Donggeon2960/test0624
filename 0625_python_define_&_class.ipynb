{
  "nbformat": 4,
  "nbformat_minor": 0,
  "metadata": {
    "colab": {
      "provenance": [],
      "authorship_tag": "ABX9TyMARooAN2ASYehA1CNrVq2a",
      "include_colab_link": true
    },
    "kernelspec": {
      "name": "python3",
      "display_name": "Python 3"
    },
    "language_info": {
      "name": "python"
    }
  },
  "cells": [
    {
      "cell_type": "markdown",
      "metadata": {
        "id": "view-in-github",
        "colab_type": "text"
      },
      "source": [
        "<a href=\"https://colab.research.google.com/github/Donggeon2960/test0624/blob/main/0625_python_define_%26_class.ipynb\" target=\"_parent\"><img src=\"https://colab.research.google.com/assets/colab-badge.svg\" alt=\"Open In Colab\"/></a>"
      ]
    },
    {
      "cell_type": "markdown",
      "source": [
        "Class 예제"
      ],
      "metadata": {
        "id": "XfyVoJxcuT1q"
      }
    },
    {
      "cell_type": "code",
      "execution_count": 11,
      "metadata": {
        "colab": {
          "base_uri": "https://localhost:8080/"
        },
        "id": "PRg7DAZdg3ZU",
        "outputId": "ed132d04-6554-4dd0-e070-abe8643f3195"
      },
      "outputs": [
        {
          "output_type": "stream",
          "name": "stdout",
          "text": [
            "과속 감지 → 속도 감속\n"
          ]
        }
      ],
      "source": [
        "# 1. 속도 제한 감지\n",
        "class SpeedLimiter:\n",
        "    def __init__(self):\n",
        "        self.current_speed = 120  # 현재 속도 (km/h)\n",
        "        self.speed_limit = 100    # 도로 제한 속도 (km/h)\n",
        "\n",
        "    def decide_action(self):\n",
        "        if self.current_speed > self.speed_limit:\n",
        "            return \"과속 감지 → 속도 감속\"\n",
        "        return \"속도 정상 → 주행 유지\"\n",
        "\n",
        "car1 = SpeedLimiter()\n",
        "print(car1.decide_action())  # 과속 감지 → 속도 감속\n"
      ]
    },
    {
      "cell_type": "code",
      "source": [
        "# 2. 빗길 주행 모드 전환\n",
        "class RainDetector:\n",
        "    def __init__(self):\n",
        "        self.rain_sensor = True  # 빗방울 감지 여부\n",
        "\n",
        "    def decide_action(self):\n",
        "        if self.rain_sensor:\n",
        "            return \"빗길 감지 → 미끄럼 방지 모드 활성화\"\n",
        "        return \"맑음 → 일반 주행 모드\"\n",
        "\n",
        "car2 = RainDetector()\n",
        "print(car2.decide_action())  # 빗길 감지 → 미끄럼 방지 모드 활성화\n"
      ],
      "metadata": {
        "colab": {
          "base_uri": "https://localhost:8080/"
        },
        "id": "IMpYiZ4ouKxH",
        "outputId": "5467e342-aabb-4478-ecfe-70b68f7b556c"
      },
      "execution_count": 12,
      "outputs": [
        {
          "output_type": "stream",
          "name": "stdout",
          "text": [
            "빗길 감지 → 미끄럼 방지 모드 활성화\n"
          ]
        }
      ]
    },
    {
      "cell_type": "code",
      "source": [
        "# 3. 사각지대 차량 알림\n",
        "class BlindSpotMonitor:\n",
        "    def __init__(self):\n",
        "        self.left_detected = False\n",
        "        self.right_detected = True\n",
        "\n",
        "    def decide_action(self):\n",
        "        alerts = []\n",
        "        if self.left_detected:\n",
        "            alerts.append(\"좌측 차량\")\n",
        "        if self.right_detected:\n",
        "            alerts.append(\"우측 차량\")\n",
        "        if alerts:\n",
        "            return f\"사각지대 감지 ({', '.join(alerts)}) → 차선 변경 주의\"\n",
        "        return \"사각지대 비어있음 → 차선 변경 가능\"\n",
        "\n",
        "car3 = BlindSpotMonitor()\n",
        "print(car3.decide_action())  # 사각지대 감지 (우측 차량) → 차선 변경 주의\n"
      ],
      "metadata": {
        "colab": {
          "base_uri": "https://localhost:8080/"
        },
        "id": "uOHK8fDouOH6",
        "outputId": "0189a4f1-b841-4f24-fb20-8c1635a5da5a"
      },
      "execution_count": 13,
      "outputs": [
        {
          "output_type": "stream",
          "name": "stdout",
          "text": [
            "사각지대 감지 (우측 차량) → 차선 변경 주의\n"
          ]
        }
      ]
    },
    {
      "cell_type": "code",
      "source": [
        "# 4. 교통 체증 어시스트\n",
        "class TrafficJamAssistant:\n",
        "    def __init__(self):\n",
        "        self.traffic_density = 80  # 교통 밀도 (%)\n",
        "\n",
        "    def decide_action(self):\n",
        "        if self.traffic_density > 70:\n",
        "            return \"교통 체증 심함 → 크루즈 컨트롤 속도 감소\"\n",
        "        return \"교통 원활 → 일반 크루즈 컨트롤\"\n",
        "\n",
        "car4 = TrafficJamAssistant()\n",
        "print(car4.decide_action())  # 교통 체증 심함 → 크루즈 컨트롤 속도 감소\n"
      ],
      "metadata": {
        "colab": {
          "base_uri": "https://localhost:8080/"
        },
        "id": "SK2ibm0cuPuc",
        "outputId": "85960fb5-5ede-450d-ff7b-e78cfdc3e75f"
      },
      "execution_count": 14,
      "outputs": [
        {
          "output_type": "stream",
          "name": "stdout",
          "text": [
            "교통 체증 심함 → 크루즈 컨트롤 속도 감소\n"
          ]
        }
      ]
    },
    {
      "cell_type": "code",
      "source": [
        "# 5. 안전한 차선 변경 판단\n",
        "class LaneChangeAssistant:\n",
        "    def __init__(self):\n",
        "        self.blind_spot_clear = True\n",
        "        self.turn_signal_on = False\n",
        "\n",
        "    def decide_action(self):\n",
        "        if not self.blind_spot_clear:\n",
        "            return \"사각지대 차량 존재 → 차선 변경 금지\"\n",
        "        if not self.turn_signal_on:\n",
        "            return \"방향지시등 미작동 → 시그널 켜기\"\n",
        "        return \"차선 변경 준비 완료 → 안전 차선 변경\"\n",
        "\n",
        "car5 = LaneChangeAssistant()\n",
        "print(car5.decide_action())  # 방향지시등 미작동 → 시그널 켜기\n"
      ],
      "metadata": {
        "colab": {
          "base_uri": "https://localhost:8080/"
        },
        "id": "EkQWLzleuRPu",
        "outputId": "7092b0d1-cf21-429e-dc24-872097dbf349"
      },
      "execution_count": 15,
      "outputs": [
        {
          "output_type": "stream",
          "name": "stdout",
          "text": [
            "방향지시등 미작동 → 시그널 켜기\n"
          ]
        }
      ]
    },
    {
      "cell_type": "markdown",
      "source": [
        "함수 예제"
      ],
      "metadata": {
        "id": "ymVb_MCguivJ"
      }
    },
    {
      "cell_type": "code",
      "source": [
        "# 1. 속도 제한 함수\n",
        "def limit_speed(current_speed, speed_limit):\n",
        "    if current_speed > speed_limit:\n",
        "        return \"과속 감지 → 속도 감속\"\n",
        "    return \"속도 정상 → 주행 유지\"\n",
        "\n",
        "print(limit_speed(120, 100))  # 과속 감지 → 속도 감속\n"
      ],
      "metadata": {
        "colab": {
          "base_uri": "https://localhost:8080/"
        },
        "id": "RgWv6dUQuq_l",
        "outputId": "7bac4aaf-4a96-4ad2-b9b6-1525b7a2d12c"
      },
      "execution_count": 16,
      "outputs": [
        {
          "output_type": "stream",
          "name": "stdout",
          "text": [
            "과속 감지 → 속도 감속\n"
          ]
        }
      ]
    },
    {
      "cell_type": "code",
      "source": [
        "# 2. 빗길 여부 함수\n",
        "def detect_rain(rain_sensor):\n",
        "    return \"빗길 감지 → 미끄럼 방지 모드\" if rain_sensor else \"맑음 → 일반 모드\"\n",
        "\n",
        "print(detect_rain(True))  # 빗길 감지 → 미끄럼 방지 모드\n"
      ],
      "metadata": {
        "colab": {
          "base_uri": "https://localhost:8080/"
        },
        "id": "tn1YDdRluwY6",
        "outputId": "e0cdf761-2bde-4d79-b09e-a3a8d503509e"
      },
      "execution_count": 17,
      "outputs": [
        {
          "output_type": "stream",
          "name": "stdout",
          "text": [
            "빗길 감지 → 미끄럼 방지 모드\n"
          ]
        }
      ]
    },
    {
      "cell_type": "code",
      "source": [
        "# 3. 사각지대 모니터링 함수\n",
        "def monitor_blind_spot(left, right):\n",
        "    alerts = []\n",
        "    if left: alerts.append(\"좌측\")\n",
        "    if right: alerts.append(\"우측\")\n",
        "    if alerts:\n",
        "        return f\"사각지대 감지 ({','.join(alerts)}) → 차선 변경 주의\"\n",
        "    return \"사각지대 비어있음 → 차선 변경 가능\"\n",
        "\n",
        "print(monitor_blind_spot(False, True))  # 사각지대 감지 (우측) → 차선 변경 주의\n"
      ],
      "metadata": {
        "colab": {
          "base_uri": "https://localhost:8080/"
        },
        "id": "E_ALJXvhuy9T",
        "outputId": "cb6e68ac-5f36-467e-9437-bd303b01fc93"
      },
      "execution_count": 18,
      "outputs": [
        {
          "output_type": "stream",
          "name": "stdout",
          "text": [
            "사각지대 감지 (우측) → 차선 변경 주의\n"
          ]
        }
      ]
    },
    {
      "cell_type": "code",
      "source": [
        "# 4. 교통 체증 어시스트 함수\n",
        "def assist_traffic_jam(density):\n",
        "    return \"체증 심함 → 크루즈 속도 감소\" if density > 70 else \"원활 → 크루즈 유지\"\n",
        "\n",
        "print(assist_traffic_jam(80))  # 체증 심함 → 크루즈 속도 감소\n"
      ],
      "metadata": {
        "colab": {
          "base_uri": "https://localhost:8080/"
        },
        "id": "1kp-2cAnu0Rm",
        "outputId": "a9b92df2-d2a0-499e-83cc-4d335f7f8d43"
      },
      "execution_count": 19,
      "outputs": [
        {
          "output_type": "stream",
          "name": "stdout",
          "text": [
            "체증 심함 → 크루즈 속도 감소\n"
          ]
        }
      ]
    },
    {
      "cell_type": "code",
      "source": [
        "# 5. 차선 변경 안전 판단 함수\n",
        "def lane_change_safe(blind_spot_clear, signal_on):\n",
        "    if not blind_spot_clear:\n",
        "        return \"사각지대 차량 존재 → 차선 변경 금지\"\n",
        "    if not signal_on:\n",
        "        return \"시그널 미작동 → 방향지시등 켜기\"\n",
        "    return \"안전 확인 → 차선 변경 진행\"\n",
        "\n",
        "print(lane_change_safe(True, False))  # 시그널 미작동 → 방향지시등 켜기\n"
      ],
      "metadata": {
        "colab": {
          "base_uri": "https://localhost:8080/"
        },
        "id": "S3RKz10gu1Uf",
        "outputId": "1532fb73-ea15-44f5-ad18-25e5cfc360d8"
      },
      "execution_count": 20,
      "outputs": [
        {
          "output_type": "stream",
          "name": "stdout",
          "text": [
            "시그널 미작동 → 방향지시등 켜기\n"
          ]
        }
      ]
    }
  ]
}